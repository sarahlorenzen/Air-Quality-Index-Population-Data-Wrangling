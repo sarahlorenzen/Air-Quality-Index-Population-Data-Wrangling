{
 "cells": [
  {
   "cell_type": "markdown",
   "metadata": {
    "id": "GNIwe5N7s0e_"
   },
   "source": [
    "# Real-world Data Wrangling"
   ]
  },
  {
   "cell_type": "code",
   "execution_count": 1,
   "metadata": {
    "scrolled": true
   },
   "outputs": [
    {
     "name": "stdout",
     "output_type": "stream",
     "text": [
      "Defaulting to user installation because normal site-packages is not writeable\n",
      "Requirement already satisfied: kaggle==1.6.12 in /home/student/.local/lib/python3.10/site-packages (1.6.12)\n",
      "Requirement already satisfied: six>=1.10 in /opt/conda/lib/python3.10/site-packages (from kaggle==1.6.12) (1.16.0)\n",
      "Requirement already satisfied: certifi>=2023.7.22 in /home/student/.local/lib/python3.10/site-packages (from kaggle==1.6.12) (2025.4.26)\n",
      "Requirement already satisfied: urllib3 in /opt/conda/lib/python3.10/site-packages (from kaggle==1.6.12) (1.26.15)\n",
      "Requirement already satisfied: python-dateutil in /opt/conda/lib/python3.10/site-packages (from kaggle==1.6.12) (2.9.0.post0)\n",
      "Requirement already satisfied: bleach in /opt/conda/lib/python3.10/site-packages (from kaggle==1.6.12) (6.1.0)\n",
      "Requirement already satisfied: tqdm in /opt/conda/lib/python3.10/site-packages (from kaggle==1.6.12) (4.65.0)\n",
      "Requirement already satisfied: requests in /opt/conda/lib/python3.10/site-packages (from kaggle==1.6.12) (2.29.0)\n",
      "Requirement already satisfied: python-slugify in /home/student/.local/lib/python3.10/site-packages (from kaggle==1.6.12) (8.0.4)\n",
      "Requirement already satisfied: webencodings in /opt/conda/lib/python3.10/site-packages (from bleach->kaggle==1.6.12) (0.5.1)\n",
      "Requirement already satisfied: text-unidecode>=1.3 in /home/student/.local/lib/python3.10/site-packages (from python-slugify->kaggle==1.6.12) (1.3)\n",
      "Requirement already satisfied: idna<4,>=2.5 in /opt/conda/lib/python3.10/site-packages (from requests->kaggle==1.6.12) (3.4)\n",
      "Requirement already satisfied: charset-normalizer<4,>=2 in /opt/conda/lib/python3.10/site-packages (from requests->kaggle==1.6.12) (2.0.4)\n"
     ]
    }
   ],
   "source": [
    "#Install dependencies & import libraries\n",
    "!python -m pip install kaggle==1.6.12"
   ]
  },
  {
   "cell_type": "code",
   "execution_count": 2,
   "metadata": {},
   "outputs": [
    {
     "name": "stdout",
     "output_type": "stream",
     "text": [
      "Collecting ucimlrepo\n",
      "  Using cached ucimlrepo-0.0.7-py3-none-any.whl (8.0 kB)\n",
      "Collecting numpy==1.24.3\n",
      "  Using cached numpy-1.24.3-cp310-cp310-manylinux_2_17_x86_64.manylinux2014_x86_64.whl (17.3 MB)\n",
      "Collecting pandas>=1.0.0\n",
      "  Using cached pandas-2.2.3-cp310-cp310-manylinux_2_17_x86_64.manylinux2014_x86_64.whl (13.1 MB)\n",
      "Collecting certifi>=2020.12.5\n",
      "  Using cached certifi-2025.4.26-py3-none-any.whl (159 kB)\n",
      "Collecting python-dateutil>=2.8.2\n",
      "  Using cached python_dateutil-2.9.0.post0-py2.py3-none-any.whl (229 kB)\n",
      "Collecting pytz>=2020.1\n",
      "  Using cached pytz-2025.2-py2.py3-none-any.whl (509 kB)\n",
      "Collecting tzdata>=2022.7\n",
      "  Using cached tzdata-2025.2-py2.py3-none-any.whl (347 kB)\n",
      "Collecting six>=1.5\n",
      "  Using cached six-1.17.0-py2.py3-none-any.whl (11 kB)\n",
      "Installing collected packages: pytz, tzdata, six, numpy, certifi, python-dateutil, pandas, ucimlrepo\n",
      "Successfully installed certifi-2025.4.26 numpy-1.24.3 pandas-2.2.3 python-dateutil-2.9.0.post0 pytz-2025.2 six-1.17.0 tzdata-2025.2 ucimlrepo-0.0.7\n",
      "\u001b[33mWARNING: Target directory /workspace/__pycache__ already exists. Specify --upgrade to force replacement.\u001b[0m\u001b[33m\n",
      "\u001b[0m\u001b[33mWARNING: Target directory /workspace/six-1.17.0.dist-info already exists. Specify --upgrade to force replacement.\u001b[0m\u001b[33m\n",
      "\u001b[0m\u001b[33mWARNING: Target directory /workspace/python_dateutil-2.9.0.post0.dist-info already exists. Specify --upgrade to force replacement.\u001b[0m\u001b[33m\n",
      "\u001b[0m\u001b[33mWARNING: Target directory /workspace/numpy already exists. Specify --upgrade to force replacement.\u001b[0m\u001b[33m\n",
      "\u001b[0m\u001b[33mWARNING: Target directory /workspace/pandas already exists. Specify --upgrade to force replacement.\u001b[0m\u001b[33m\n",
      "\u001b[0m\u001b[33mWARNING: Target directory /workspace/numpy-1.24.3.dist-info already exists. Specify --upgrade to force replacement.\u001b[0m\u001b[33m\n",
      "\u001b[0m\u001b[33mWARNING: Target directory /workspace/tzdata already exists. Specify --upgrade to force replacement.\u001b[0m\u001b[33m\n",
      "\u001b[0m\u001b[33mWARNING: Target directory /workspace/ucimlrepo already exists. Specify --upgrade to force replacement.\u001b[0m\u001b[33m\n",
      "\u001b[0m\u001b[33mWARNING: Target directory /workspace/pytz-2025.2.dist-info already exists. Specify --upgrade to force replacement.\u001b[0m\u001b[33m\n",
      "\u001b[0m\u001b[33mWARNING: Target directory /workspace/ucimlrepo-0.0.7.dist-info already exists. Specify --upgrade to force replacement.\u001b[0m\u001b[33m\n",
      "\u001b[0m\u001b[33mWARNING: Target directory /workspace/pandas-2.2.3.dist-info already exists. Specify --upgrade to force replacement.\u001b[0m\u001b[33m\n",
      "\u001b[0m\u001b[33mWARNING: Target directory /workspace/numpy.libs already exists. Specify --upgrade to force replacement.\u001b[0m\u001b[33m\n",
      "\u001b[0m\u001b[33mWARNING: Target directory /workspace/pytz already exists. Specify --upgrade to force replacement.\u001b[0m\u001b[33m\n",
      "\u001b[0m\u001b[33mWARNING: Target directory /workspace/dateutil already exists. Specify --upgrade to force replacement.\u001b[0m\u001b[33m\n",
      "\u001b[0m\u001b[33mWARNING: Target directory /workspace/tzdata-2025.2.dist-info already exists. Specify --upgrade to force replacement.\u001b[0m\u001b[33m\n",
      "\u001b[0m\u001b[33mWARNING: Target directory /workspace/six.py already exists. Specify --upgrade to force replacement.\u001b[0m\u001b[33m\n",
      "\u001b[0m\u001b[33mWARNING: Target directory /workspace/certifi-2025.4.26.dist-info already exists. Specify --upgrade to force replacement.\u001b[0m\u001b[33m\n",
      "\u001b[0m\u001b[33mWARNING: Target directory /workspace/certifi already exists. Specify --upgrade to force replacement.\u001b[0m\u001b[33m\n",
      "\u001b[0m\u001b[33mWARNING: Target directory /workspace/bin already exists. Specify --upgrade to force replacement.\u001b[0m\u001b[33m\n",
      "\u001b[0m"
     ]
    }
   ],
   "source": [
    "!pip install --target=/workspace ucimlrepo numpy==1.24.3"
   ]
  },
  {
   "cell_type": "markdown",
   "metadata": {
    "id": "lDYDkH-Zs7Nn"
   },
   "source": [
    "## 1. Gather data\n",
    "\n",
    "In this section, you will extract data using two different data gathering methods and combine the data. Use at least two different types of data-gathering methods."
   ]
  },
  {
   "cell_type": "markdown",
   "metadata": {
    "id": "LbN7z7rcuqpO"
   },
   "source": [
    "### **1.1.** Problem Statement\n",
    "Investigate which Country has the Highest and the Lowest Population, as well as we'll look at the populations' impact on Air Quality. I hypothesize that the larger the population, the worse the Air Quality."
   ]
  },
  {
   "cell_type": "markdown",
   "metadata": {
    "id": "8AQfBAdUypMm"
   },
   "source": [
    "### **1.2.** Gather at least two datasets using two different data gathering methods\n",
    "\n",
    "Datasets chosen:\n",
    "\n",
    "**Dataset 1:** World Population by Countries Dataset (1960-2021)\n",
    "(https://www.kaggle.com/datasets/kaggleashwin/population-dataset)\n",
    "\n",
    "**Dataset 2:** Most Polluted Cities and Countries (IQAir Index)\n",
    "(https://www.kaggle.com/datasets/ramjasmaurya/most-polluted-cities-and-countries-iqair-index)\n",
    "\n",
    "Datasets both are Country based and can be analyzed together."
   ]
  },
  {
   "cell_type": "markdown",
   "metadata": {
    "id": "7e6gS0wL1KTu"
   },
   "source": [
    "#### **Dataset 1**\n",
    "\n",
    "Type: *CSV File*\n",
    "\n",
    "Method: *The data was gathered via **Kaggle API** as a ZIP file.* \n",
    "\n",
    "Dataset variables:\n",
    "\n",
    "*   *Country Name*\n",
    "*   *Country Code*\n",
    "*   *Year* Between 1960 to 2021"
   ]
  },
  {
   "cell_type": "code",
   "execution_count": 3,
   "metadata": {
    "id": "Su8E0uLuYkHU"
   },
   "outputs": [
    {
     "name": "stdout",
     "output_type": "stream",
     "text": [
      "Warning: Looks like you're using an outdated API Version, please consider updating (server 1.7.4.2 / client 1.6.12)\n",
      "Dataset URL: https://www.kaggle.com/datasets/kaggleashwin/population-dataset\n",
      "License(s): CC0-1.0\n",
      "Downloading population-dataset.zip to ./data\n",
      "  0%|                                               | 0.00/68.7k [00:00<?, ?B/s]\n",
      "100%|██████████████████████████████████████| 68.7k/68.7k [00:00<00:00, 80.7MB/s]\n"
     ]
    }
   ],
   "source": [
    "#Download Population data from Kaggle API - 1st data gathering\n",
    "\n",
    "!~/.local/bin/kaggle datasets download -d kaggleashwin/population-dataset -p ./data --unzip"
   ]
  },
  {
   "cell_type": "code",
   "execution_count": 4,
   "metadata": {},
   "outputs": [],
   "source": [
    "#Load 1st data file\n",
    "\n",
    "import pandas as pd\n",
    "\n",
    "usecols = [\"Country Name\", \"2018\", \"2019\", \"2020\", \"2021\"]\n",
    "pop_df = pd.read_csv(\"./data/World-population-by-countries-dataset.csv\", usecols=usecols)"
   ]
  },
  {
   "cell_type": "markdown",
   "metadata": {
    "id": "hoUjq1tPzz7P"
   },
   "source": [
    "#### Dataset 2\n",
    "\n",
    "Type: *CSV File*\n",
    "\n",
    "Method: *The data was gathered via **manual download** method from Kaggle then uploaded manually to the data folder.*\n",
    "\n",
    "Dataset variables:\n",
    "\n",
    "*   *Country/Region*\n",
    "*   *Year* Between 2018 to 2021"
   ]
  },
  {
   "cell_type": "code",
   "execution_count": 5,
   "metadata": {
    "id": "6zT0QxRyYmm7"
   },
   "outputs": [],
   "source": [
    "#Load 2nd data file\n",
    "\n",
    "air_df = pd.read_csv(\"./data/AIR-QUALITY-INDEX-top-countries.csv\", index_col=\"Rank\")"
   ]
  },
  {
   "cell_type": "markdown",
   "metadata": {
    "id": "QwSWIVmotLgV"
   },
   "source": [
    "## 2. Assess data\n",
    "\n",
    "I visually assessed each part of the dataset in Microsoft Excel as well as programmatically assessing them below and documented all the issues I detected while scrolling and randomly checking the data, these issues include columns with predominantly missing values, non-descriptive columns names and inconsistency in column entries."
   ]
  },
  {
   "cell_type": "code",
   "execution_count": 6,
   "metadata": {},
   "outputs": [],
   "source": [
    "# import all libraries\n",
    "import numpy as np\n",
    "import matplotlib.pyplot as plt\n",
    "%matplotlib inline\n",
    "import seaborn as sns"
   ]
  },
  {
   "cell_type": "markdown",
   "metadata": {
    "id": "adaK2iPNzVu4"
   },
   "source": [
    "### Inspect Tables:\n",
    "\n",
    "First we will gather basic information about the datasets to look for missing data, duplicates, or incorrect data types."
   ]
  },
  {
   "cell_type": "markdown",
   "metadata": {},
   "source": [
    "#### Population Dataset 1"
   ]
  },
  {
   "cell_type": "code",
   "execution_count": 7,
   "metadata": {
    "id": "SpW59kh-zl8d"
   },
   "outputs": [
    {
     "data": {
      "text/html": [
       "<div>\n",
       "<style scoped>\n",
       "    .dataframe tbody tr th:only-of-type {\n",
       "        vertical-align: middle;\n",
       "    }\n",
       "\n",
       "    .dataframe tbody tr th {\n",
       "        vertical-align: top;\n",
       "    }\n",
       "\n",
       "    .dataframe thead th {\n",
       "        text-align: right;\n",
       "    }\n",
       "</style>\n",
       "<table border=\"1\" class=\"dataframe\">\n",
       "  <thead>\n",
       "    <tr style=\"text-align: right;\">\n",
       "      <th></th>\n",
       "      <th>Country Name</th>\n",
       "      <th>2018</th>\n",
       "      <th>2019</th>\n",
       "      <th>2020</th>\n",
       "      <th>2021</th>\n",
       "    </tr>\n",
       "  </thead>\n",
       "  <tbody>\n",
       "    <tr>\n",
       "      <th>0</th>\n",
       "      <td>Aruba</td>\n",
       "      <td>105846.0</td>\n",
       "      <td>106310.0</td>\n",
       "      <td>106766.0</td>\n",
       "      <td>107195.0</td>\n",
       "    </tr>\n",
       "    <tr>\n",
       "      <th>1</th>\n",
       "      <td>Africa Eastern and Southern</td>\n",
       "      <td>643090131.0</td>\n",
       "      <td>660046272.0</td>\n",
       "      <td>677243299.0</td>\n",
       "      <td>694665117.0</td>\n",
       "    </tr>\n",
       "    <tr>\n",
       "      <th>2</th>\n",
       "      <td>Afghanistan</td>\n",
       "      <td>37171922.0</td>\n",
       "      <td>38041757.0</td>\n",
       "      <td>38928341.0</td>\n",
       "      <td>39835428.0</td>\n",
       "    </tr>\n",
       "    <tr>\n",
       "      <th>3</th>\n",
       "      <td>Africa Western and Central</td>\n",
       "      <td>435229381.0</td>\n",
       "      <td>446911598.0</td>\n",
       "      <td>458803476.0</td>\n",
       "      <td>470898870.0</td>\n",
       "    </tr>\n",
       "    <tr>\n",
       "      <th>4</th>\n",
       "      <td>Angola</td>\n",
       "      <td>30809787.0</td>\n",
       "      <td>31825299.0</td>\n",
       "      <td>32866268.0</td>\n",
       "      <td>33933611.0</td>\n",
       "    </tr>\n",
       "  </tbody>\n",
       "</table>\n",
       "</div>"
      ],
      "text/plain": [
       "                  Country Name         2018         2019         2020  \\\n",
       "0                        Aruba     105846.0     106310.0     106766.0   \n",
       "1  Africa Eastern and Southern  643090131.0  660046272.0  677243299.0   \n",
       "2                  Afghanistan   37171922.0   38041757.0   38928341.0   \n",
       "3   Africa Western and Central  435229381.0  446911598.0  458803476.0   \n",
       "4                       Angola   30809787.0   31825299.0   32866268.0   \n",
       "\n",
       "          2021  \n",
       "0     107195.0  \n",
       "1  694665117.0  \n",
       "2   39835428.0  \n",
       "3  470898870.0  \n",
       "4   33933611.0  "
      ]
     },
     "execution_count": 7,
     "metadata": {},
     "output_type": "execute_result"
    }
   ],
   "source": [
    "# Inspecting the dataframes visually\n",
    "\n",
    "# 1st - display first five rows of data\n",
    "pop_df.head(5)"
   ]
  },
  {
   "cell_type": "markdown",
   "metadata": {},
   "source": [
    "**Tidiness & Quality Issues present:** There are rows with Regional Names and Total Population sums that need to be cleaned up. If left in, it will affect the mean, and give inaccurate quantitative information."
   ]
  },
  {
   "cell_type": "code",
   "execution_count": 8,
   "metadata": {
    "scrolled": true
   },
   "outputs": [
    {
     "name": "stdout",
     "output_type": "stream",
     "text": [
      "<class 'pandas.core.frame.DataFrame'>\n",
      "RangeIndex: 266 entries, 0 to 265\n",
      "Data columns (total 5 columns):\n",
      " #   Column        Non-Null Count  Dtype  \n",
      "---  ------        --------------  -----  \n",
      " 0   Country Name  266 non-null    object \n",
      " 1   2018          264 non-null    float64\n",
      " 2   2019          264 non-null    float64\n",
      " 3   2020          264 non-null    float64\n",
      " 4   2021          264 non-null    float64\n",
      "dtypes: float64(4), object(1)\n",
      "memory usage: 10.5+ KB\n"
     ]
    }
   ],
   "source": [
    "# 1st - Inspecting the dataframe programmatically\n",
    "pop_df.info()"
   ]
  },
  {
   "cell_type": "markdown",
   "metadata": {},
   "source": [
    "**Tidiness & Quality Issues present:** \n",
    "\n",
    "Missing Data - There are columns with 264 and 266 rows of values - this discrepancy and the missing data needs to be cleaned up.\n",
    "\n",
    "Incorrect Data Types - All of the data in the year columns should be integers not floats."
   ]
  },
  {
   "cell_type": "code",
   "execution_count": 9,
   "metadata": {
    "scrolled": true
   },
   "outputs": [
    {
     "data": {
      "text/plain": [
       "0"
      ]
     },
     "execution_count": 9,
     "metadata": {},
     "output_type": "execute_result"
    }
   ],
   "source": [
    "# 1st - Check for duplicated rows\n",
    "pop_df.duplicated().sum()"
   ]
  },
  {
   "cell_type": "code",
   "execution_count": 10,
   "metadata": {},
   "outputs": [
    {
     "data": {
      "text/html": [
       "<div>\n",
       "<style scoped>\n",
       "    .dataframe tbody tr th:only-of-type {\n",
       "        vertical-align: middle;\n",
       "    }\n",
       "\n",
       "    .dataframe tbody tr th {\n",
       "        vertical-align: top;\n",
       "    }\n",
       "\n",
       "    .dataframe thead th {\n",
       "        text-align: right;\n",
       "    }\n",
       "</style>\n",
       "<table border=\"1\" class=\"dataframe\">\n",
       "  <thead>\n",
       "    <tr style=\"text-align: right;\">\n",
       "      <th></th>\n",
       "      <th>2018</th>\n",
       "      <th>2019</th>\n",
       "      <th>2020</th>\n",
       "      <th>2021</th>\n",
       "    </tr>\n",
       "  </thead>\n",
       "  <tbody>\n",
       "    <tr>\n",
       "      <th>count</th>\n",
       "      <td>2.640000e+02</td>\n",
       "      <td>2.640000e+02</td>\n",
       "      <td>2.640000e+02</td>\n",
       "      <td>2.640000e+02</td>\n",
       "    </tr>\n",
       "    <tr>\n",
       "      <th>mean</th>\n",
       "      <td>3.103591e+08</td>\n",
       "      <td>3.140425e+08</td>\n",
       "      <td>3.176734e+08</td>\n",
       "      <td>3.210893e+08</td>\n",
       "    </tr>\n",
       "    <tr>\n",
       "      <th>std</th>\n",
       "      <td>9.683483e+08</td>\n",
       "      <td>9.788967e+08</td>\n",
       "      <td>9.891628e+08</td>\n",
       "      <td>9.988295e+08</td>\n",
       "    </tr>\n",
       "    <tr>\n",
       "      <th>min</th>\n",
       "      <td>1.067800e+04</td>\n",
       "      <td>1.076400e+04</td>\n",
       "      <td>1.083400e+04</td>\n",
       "      <td>1.087300e+04</td>\n",
       "    </tr>\n",
       "    <tr>\n",
       "      <th>25%</th>\n",
       "      <td>1.740174e+06</td>\n",
       "      <td>1.751950e+06</td>\n",
       "      <td>1.767996e+06</td>\n",
       "      <td>1.791783e+06</td>\n",
       "    </tr>\n",
       "    <tr>\n",
       "      <th>50%</th>\n",
       "      <td>1.045548e+07</td>\n",
       "      <td>1.047907e+07</td>\n",
       "      <td>1.052565e+07</td>\n",
       "      <td>1.054019e+07</td>\n",
       "    </tr>\n",
       "    <tr>\n",
       "      <th>75%</th>\n",
       "      <td>6.193141e+07</td>\n",
       "      <td>6.150589e+07</td>\n",
       "      <td>6.157091e+07</td>\n",
       "      <td>6.295547e+07</td>\n",
       "    </tr>\n",
       "    <tr>\n",
       "      <th>max</th>\n",
       "      <td>7.602716e+09</td>\n",
       "      <td>7.683806e+09</td>\n",
       "      <td>7.763933e+09</td>\n",
       "      <td>7.836631e+09</td>\n",
       "    </tr>\n",
       "  </tbody>\n",
       "</table>\n",
       "</div>"
      ],
      "text/plain": [
       "               2018          2019          2020          2021\n",
       "count  2.640000e+02  2.640000e+02  2.640000e+02  2.640000e+02\n",
       "mean   3.103591e+08  3.140425e+08  3.176734e+08  3.210893e+08\n",
       "std    9.683483e+08  9.788967e+08  9.891628e+08  9.988295e+08\n",
       "min    1.067800e+04  1.076400e+04  1.083400e+04  1.087300e+04\n",
       "25%    1.740174e+06  1.751950e+06  1.767996e+06  1.791783e+06\n",
       "50%    1.045548e+07  1.047907e+07  1.052565e+07  1.054019e+07\n",
       "75%    6.193141e+07  6.150589e+07  6.157091e+07  6.295547e+07\n",
       "max    7.602716e+09  7.683806e+09  7.763933e+09  7.836631e+09"
      ]
     },
     "execution_count": 10,
     "metadata": {},
     "output_type": "execute_result"
    }
   ],
   "source": [
    "pop_df.describe()"
   ]
  },
  {
   "cell_type": "markdown",
   "metadata": {},
   "source": [
    "-- The population for years 2018 to 2021 will have to be displayed in Billions. \n",
    "\n",
    "-- Check the upper ends of the population to make sure it's accurate, that it's not reading an aggregate."
   ]
  },
  {
   "cell_type": "markdown",
   "metadata": {},
   "source": [
    "#### Air Quality Dataset 2"
   ]
  },
  {
   "cell_type": "code",
   "execution_count": 11,
   "metadata": {},
   "outputs": [
    {
     "data": {
      "text/html": [
       "<div>\n",
       "<style scoped>\n",
       "    .dataframe tbody tr th:only-of-type {\n",
       "        vertical-align: middle;\n",
       "    }\n",
       "\n",
       "    .dataframe tbody tr th {\n",
       "        vertical-align: top;\n",
       "    }\n",
       "\n",
       "    .dataframe thead th {\n",
       "        text-align: right;\n",
       "    }\n",
       "</style>\n",
       "<table border=\"1\" class=\"dataframe\">\n",
       "  <thead>\n",
       "    <tr style=\"text-align: right;\">\n",
       "      <th></th>\n",
       "      <th>Country/Region</th>\n",
       "      <th>2021</th>\n",
       "      <th>2020</th>\n",
       "      <th>2019</th>\n",
       "      <th>2018</th>\n",
       "      <th>Population</th>\n",
       "    </tr>\n",
       "    <tr>\n",
       "      <th>Rank</th>\n",
       "      <th></th>\n",
       "      <th></th>\n",
       "      <th></th>\n",
       "      <th></th>\n",
       "      <th></th>\n",
       "      <th></th>\n",
       "    </tr>\n",
       "  </thead>\n",
       "  <tbody>\n",
       "    <tr>\n",
       "      <th>1</th>\n",
       "      <td>Bangladesh</td>\n",
       "      <td>76.9</td>\n",
       "      <td>77.1</td>\n",
       "      <td>83.3</td>\n",
       "      <td>97.1</td>\n",
       "      <td>164,689,383</td>\n",
       "    </tr>\n",
       "    <tr>\n",
       "      <th>2</th>\n",
       "      <td>Chad</td>\n",
       "      <td>75.9</td>\n",
       "      <td>-</td>\n",
       "      <td>-</td>\n",
       "      <td>-</td>\n",
       "      <td>16,425,859</td>\n",
       "    </tr>\n",
       "    <tr>\n",
       "      <th>3</th>\n",
       "      <td>Pakistan</td>\n",
       "      <td>66.8</td>\n",
       "      <td>59</td>\n",
       "      <td>65.8</td>\n",
       "      <td>74.3</td>\n",
       "      <td>220,892,331</td>\n",
       "    </tr>\n",
       "    <tr>\n",
       "      <th>4</th>\n",
       "      <td>Tajikistan</td>\n",
       "      <td>59.4</td>\n",
       "      <td>30.9</td>\n",
       "      <td>-</td>\n",
       "      <td>-</td>\n",
       "      <td>9,537,642</td>\n",
       "    </tr>\n",
       "    <tr>\n",
       "      <th>5</th>\n",
       "      <td>India</td>\n",
       "      <td>58.1</td>\n",
       "      <td>51.9</td>\n",
       "      <td>58.1</td>\n",
       "      <td>72.5</td>\n",
       "      <td>1,380,004,385</td>\n",
       "    </tr>\n",
       "  </tbody>\n",
       "</table>\n",
       "</div>"
      ],
      "text/plain": [
       "     Country/Region  2021  2020  2019  2018     Population\n",
       "Rank                                                      \n",
       "1        Bangladesh  76.9  77.1  83.3  97.1    164,689,383\n",
       "2              Chad  75.9     -     -     -     16,425,859\n",
       "3          Pakistan  66.8    59  65.8  74.3    220,892,331\n",
       "4        Tajikistan  59.4  30.9     -     -      9,537,642\n",
       "5             India  58.1  51.9  58.1  72.5  1,380,004,385"
      ]
     },
     "execution_count": 11,
     "metadata": {},
     "output_type": "execute_result"
    }
   ],
   "source": [
    "# 2nd - display first five rows of data\n",
    "air_df.head(5)"
   ]
  },
  {
   "cell_type": "markdown",
   "metadata": {},
   "source": [
    "**Tidiness & Quality Issues present:** Will need to set 'Rank' to the index column. Already it's evident there are rows with missing data."
   ]
  },
  {
   "cell_type": "code",
   "execution_count": 12,
   "metadata": {
    "id": "-qfcocStzsKg"
   },
   "outputs": [
    {
     "name": "stdout",
     "output_type": "stream",
     "text": [
      "<class 'pandas.core.frame.DataFrame'>\n",
      "Index: 118 entries, 1 to 118\n",
      "Data columns (total 6 columns):\n",
      " #   Column          Non-Null Count  Dtype  \n",
      "---  ------          --------------  -----  \n",
      " 0   Country/Region  118 non-null    object \n",
      " 1   2021            118 non-null    float64\n",
      " 2   2020            118 non-null    object \n",
      " 3   2019            118 non-null    object \n",
      " 4   2018            118 non-null    object \n",
      " 5   Population      118 non-null    object \n",
      "dtypes: float64(1), object(5)\n",
      "memory usage: 6.5+ KB\n"
     ]
    }
   ],
   "source": [
    "# 2nd - Inspecting the dataframe programmatically\n",
    "air_df.info()"
   ]
  },
  {
   "cell_type": "markdown",
   "metadata": {},
   "source": [
    "**Tidiness & Quality Issues present:** The Air Quality data should be all Floats, not object and float. This will need tidying."
   ]
  },
  {
   "cell_type": "code",
   "execution_count": 13,
   "metadata": {},
   "outputs": [
    {
     "data": {
      "text/html": [
       "<div>\n",
       "<style scoped>\n",
       "    .dataframe tbody tr th:only-of-type {\n",
       "        vertical-align: middle;\n",
       "    }\n",
       "\n",
       "    .dataframe tbody tr th {\n",
       "        vertical-align: top;\n",
       "    }\n",
       "\n",
       "    .dataframe thead th {\n",
       "        text-align: right;\n",
       "    }\n",
       "</style>\n",
       "<table border=\"1\" class=\"dataframe\">\n",
       "  <thead>\n",
       "    <tr style=\"text-align: right;\">\n",
       "      <th></th>\n",
       "      <th>2021</th>\n",
       "    </tr>\n",
       "  </thead>\n",
       "  <tbody>\n",
       "    <tr>\n",
       "      <th>count</th>\n",
       "      <td>118.000000</td>\n",
       "    </tr>\n",
       "    <tr>\n",
       "      <th>mean</th>\n",
       "      <td>21.027119</td>\n",
       "    </tr>\n",
       "    <tr>\n",
       "      <th>std</th>\n",
       "      <td>15.023336</td>\n",
       "    </tr>\n",
       "    <tr>\n",
       "      <th>min</th>\n",
       "      <td>3.800000</td>\n",
       "    </tr>\n",
       "    <tr>\n",
       "      <th>25%</th>\n",
       "      <td>10.725000</td>\n",
       "    </tr>\n",
       "    <tr>\n",
       "      <th>50%</th>\n",
       "      <td>16.750000</td>\n",
       "    </tr>\n",
       "    <tr>\n",
       "      <th>75%</th>\n",
       "      <td>25.900000</td>\n",
       "    </tr>\n",
       "    <tr>\n",
       "      <th>max</th>\n",
       "      <td>76.900000</td>\n",
       "    </tr>\n",
       "  </tbody>\n",
       "</table>\n",
       "</div>"
      ],
      "text/plain": [
       "             2021\n",
       "count  118.000000\n",
       "mean    21.027119\n",
       "std     15.023336\n",
       "min      3.800000\n",
       "25%     10.725000\n",
       "50%     16.750000\n",
       "75%     25.900000\n",
       "max     76.900000"
      ]
     },
     "execution_count": 13,
     "metadata": {},
     "output_type": "execute_result"
    }
   ],
   "source": [
    "air_df.describe()"
   ]
  },
  {
   "cell_type": "code",
   "execution_count": 14,
   "metadata": {},
   "outputs": [
    {
     "data": {
      "text/plain": [
       "0"
      ]
     },
     "execution_count": 14,
     "metadata": {},
     "output_type": "execute_result"
    }
   ],
   "source": [
    "# 2nd - Check for duplicated rows\n",
    "air_df.duplicated().sum()"
   ]
  },
  {
   "cell_type": "markdown",
   "metadata": {},
   "source": [
    "No duplicates found. There are 118 countries present in Air Quality dataset versus 264 countries in the Population dataset. Will need to investigate further."
   ]
  },
  {
   "cell_type": "markdown",
   "metadata": {},
   "source": [
    "### Dataset 1 World Population by Countries: Tidiness & Quality Issues"
   ]
  },
  {
   "cell_type": "markdown",
   "metadata": {},
   "source": [
    "**Quality Issue 1: Incorrect Data Types** Population values for the years should be Integers. Air Index values should be Floats. \n",
    "\n",
    "Method used: *Programmatical*"
   ]
  },
  {
   "cell_type": "markdown",
   "metadata": {
    "id": "8Be77N4I1AmE"
   },
   "source": [
    "**Quality Issue 2: Missing or Incomple Data** Missing values in some year columns, blank or non-numeric entries.\n",
    "\n",
    "Method used: *Programmatical*"
   ]
  },
  {
   "cell_type": "markdown",
   "metadata": {
    "id": "8Be77N4I1AmE"
   },
   "source": [
    "**Quality Issue 3: Inconsistent granularity** It mixes individual countries with (Aruba) with regions (Middle East). This is inflating the country count to 264.\n",
    "\n",
    "Method used: *Programmatical & Visual verification*"
   ]
  },
  {
   "cell_type": "markdown",
   "metadata": {
    "id": "lXhGiYyiwwKN"
   },
   "source": [
    "**Tidiness Issue 1: Duplication of data** Population dataset has Country Code and Country Name, both identify the same entity. Will drop the Country Code.\n",
    "\n",
    "Method used: *Programmatical*"
   ]
  },
  {
   "cell_type": "markdown",
   "metadata": {
    "id": "4ffMoRGSwzYj"
   },
   "source": [
    "**Tidiness Issue 2: Table Structure** This is in wide format, each year is it's own column. For analysis it's better to pivot to long,  with columns [Country Name, Year] \n",
    "\n",
    "Method used: *Programmatical*"
   ]
  },
  {
   "cell_type": "markdown",
   "metadata": {},
   "source": [
    "### Dataset 2 Air Quality Index by Countries: Tidiness & Quality Issues"
   ]
  },
  {
   "cell_type": "markdown",
   "metadata": {},
   "source": [
    "**Quality Issue 1: Incorrect Mixed Data Types** The year columns 2018 - 2021, are mixed data types, strings where '-' appears and numbers elsewhere.\n",
    "\n",
    "Method used: *Programmatical*"
   ]
  },
  {
   "cell_type": "markdown",
   "metadata": {},
   "source": [
    "**Quality Issue 2: Fake Nulls** Missing values are encoded as '-' in the year columns rather than as true nulls.\n",
    "\n",
    "Method used: *Programmatical*"
   ]
  },
  {
   "cell_type": "markdown",
   "metadata": {},
   "source": [
    "**Tidiness Issue 1:** This is in wide format, each year is it's own column. A 'tidy' form would have one row per Country-Year with columns [Country, Year, AQI]\n",
    "\n",
    "Method used: *Programmatical*"
   ]
  },
  {
   "cell_type": "markdown",
   "metadata": {},
   "source": [
    "**Tidiness Issue 2:** The 'Rank' column is redundant once you sort by AQI, it doesn't add new information.\n",
    "\n",
    "Method used: *Programmatical*"
   ]
  },
  {
   "cell_type": "markdown",
   "metadata": {
    "id": "D6gmLnBttpCh"
   },
   "source": [
    "## 3. Clean data\n",
    "Clean the data to solve the issues corresponding to data quality and tidiness found in the assessing step. **Make sure you include justifications for your cleaning decisions.**"
   ]
  },
  {
   "cell_type": "code",
   "execution_count": 15,
   "metadata": {},
   "outputs": [],
   "source": [
    "# Make copies of the datasets to ensure the raw dataframes \n",
    "# are not impacted\n",
    "\n",
    "pop_dirty = pop_df.copy()\n",
    "air_dirty = air_df.copy()"
   ]
  },
  {
   "cell_type": "markdown",
   "metadata": {},
   "source": [
    "### Population dataset - Quality Issues 1 & 2\n",
    "### Air Quality dataset - Quality Issue 1 & 2"
   ]
  },
  {
   "cell_type": "markdown",
   "metadata": {
    "id": "8Be77N4I1AmE"
   },
   "source": [
    "We need to address the missing or incomplete data before we can address the incorrect data types and fake nulls"
   ]
  },
  {
   "cell_type": "markdown",
   "metadata": {},
   "source": [
    "#### Population Dataset:"
   ]
  },
  {
   "cell_type": "code",
   "execution_count": 16,
   "metadata": {},
   "outputs": [
    {
     "data": {
      "text/plain": [
       "Country Name    0\n",
       "2018            0\n",
       "2019            0\n",
       "2020            0\n",
       "2021            0\n",
       "dtype: int64"
      ]
     },
     "execution_count": 16,
     "metadata": {},
     "output_type": "execute_result"
    }
   ],
   "source": [
    "# Drop Null rows before changing data types\n",
    "\n",
    "# Fill the null values with zero.\n",
    "pop_dirty.fillna(0, inplace = True)\n",
    "\n",
    "# verify no remaining null values\n",
    "pop_dirty.isnull().sum()"
   ]
  },
  {
   "cell_type": "code",
   "execution_count": 17,
   "metadata": {},
   "outputs": [],
   "source": [
    "# Drop rows with zero values\n",
    "\n",
    "pop_dirty['2018'] = pop_dirty['2018'].replace(0, np.NaN)\n",
    "pop_dirty['2019'] = pop_dirty['2019'].replace(0, np.NaN)\n",
    "pop_dirty['2020'] = pop_dirty['2020'].replace(0, np.NaN)\n",
    "pop_dirty['2021'] = pop_dirty['2021'].replace(0, np.NaN)\n",
    "\n",
    "pop_dirty.dropna(inplace =True)"
   ]
  },
  {
   "cell_type": "code",
   "execution_count": 18,
   "metadata": {
    "id": "9UejDWrNMW4a"
   },
   "outputs": [],
   "source": [
    "# Population dataset: Fix incorrect data types\n",
    "\n",
    "pop_dirty['2018'] = pop_dirty['2018'].astype(int)\n",
    "pop_dirty['2019'] = pop_dirty['2019'].astype(int)\n",
    "pop_dirty['2020'] = pop_dirty['2020'].astype(int)\n",
    "pop_dirty['2021'] = pop_dirty['2021'].astype(int)"
   ]
  },
  {
   "cell_type": "code",
   "execution_count": 19,
   "metadata": {
    "scrolled": true
   },
   "outputs": [
    {
     "name": "stdout",
     "output_type": "stream",
     "text": [
      "<class 'pandas.core.frame.DataFrame'>\n",
      "Index: 264 entries, 0 to 265\n",
      "Data columns (total 5 columns):\n",
      " #   Column        Non-Null Count  Dtype \n",
      "---  ------        --------------  ----- \n",
      " 0   Country Name  264 non-null    object\n",
      " 1   2018          264 non-null    int64 \n",
      " 2   2019          264 non-null    int64 \n",
      " 3   2020          264 non-null    int64 \n",
      " 4   2021          264 non-null    int64 \n",
      "dtypes: int64(4), object(1)\n",
      "memory usage: 12.4+ KB\n"
     ]
    }
   ],
   "source": [
    "pop_dirty.info()"
   ]
  },
  {
   "cell_type": "markdown",
   "metadata": {},
   "source": [
    "We've cleared the null values and also changed the datatypes for 2018, 2019, 2020, 2021. We're not concerned with 1960 - 2017 because we will be dropping those columns and not using that data in our comparison."
   ]
  },
  {
   "cell_type": "markdown",
   "metadata": {},
   "source": [
    "#### Air Quality Dataset:"
   ]
  },
  {
   "cell_type": "code",
   "execution_count": 20,
   "metadata": {
    "id": "oUBee-LPytkv"
   },
   "outputs": [],
   "source": [
    "# Change '-' value in row data to the rows numerical mean and change to float\n",
    "\n",
    "aqi_columns = ['2021', '2020', '2019', '2018']\n",
    "air_dirty[aqi_columns] = air_dirty[aqi_columns].replace('-', np.nan).astype(float)\n",
    "air_dirty[aqi_columns] = air_dirty[aqi_columns].T.fillna(air_dirty[aqi_columns].mean(axis=1)).T"
   ]
  },
  {
   "cell_type": "code",
   "execution_count": 21,
   "metadata": {},
   "outputs": [
    {
     "data": {
      "text/html": [
       "<div>\n",
       "<style scoped>\n",
       "    .dataframe tbody tr th:only-of-type {\n",
       "        vertical-align: middle;\n",
       "    }\n",
       "\n",
       "    .dataframe tbody tr th {\n",
       "        vertical-align: top;\n",
       "    }\n",
       "\n",
       "    .dataframe thead th {\n",
       "        text-align: right;\n",
       "    }\n",
       "</style>\n",
       "<table border=\"1\" class=\"dataframe\">\n",
       "  <thead>\n",
       "    <tr style=\"text-align: right;\">\n",
       "      <th></th>\n",
       "      <th>Country/Region</th>\n",
       "      <th>2021</th>\n",
       "      <th>2020</th>\n",
       "      <th>2019</th>\n",
       "      <th>2018</th>\n",
       "      <th>Population</th>\n",
       "    </tr>\n",
       "    <tr>\n",
       "      <th>Rank</th>\n",
       "      <th></th>\n",
       "      <th></th>\n",
       "      <th></th>\n",
       "      <th></th>\n",
       "      <th></th>\n",
       "      <th></th>\n",
       "    </tr>\n",
       "  </thead>\n",
       "  <tbody>\n",
       "    <tr>\n",
       "      <th>1</th>\n",
       "      <td>Bangladesh</td>\n",
       "      <td>76.9</td>\n",
       "      <td>77.1</td>\n",
       "      <td>83.30</td>\n",
       "      <td>97.10</td>\n",
       "      <td>164,689,383</td>\n",
       "    </tr>\n",
       "    <tr>\n",
       "      <th>2</th>\n",
       "      <td>Chad</td>\n",
       "      <td>75.9</td>\n",
       "      <td>75.9</td>\n",
       "      <td>75.90</td>\n",
       "      <td>75.90</td>\n",
       "      <td>16,425,859</td>\n",
       "    </tr>\n",
       "    <tr>\n",
       "      <th>3</th>\n",
       "      <td>Pakistan</td>\n",
       "      <td>66.8</td>\n",
       "      <td>59.0</td>\n",
       "      <td>65.80</td>\n",
       "      <td>74.30</td>\n",
       "      <td>220,892,331</td>\n",
       "    </tr>\n",
       "    <tr>\n",
       "      <th>4</th>\n",
       "      <td>Tajikistan</td>\n",
       "      <td>59.4</td>\n",
       "      <td>30.9</td>\n",
       "      <td>45.15</td>\n",
       "      <td>45.15</td>\n",
       "      <td>9,537,642</td>\n",
       "    </tr>\n",
       "    <tr>\n",
       "      <th>5</th>\n",
       "      <td>India</td>\n",
       "      <td>58.1</td>\n",
       "      <td>51.9</td>\n",
       "      <td>58.10</td>\n",
       "      <td>72.50</td>\n",
       "      <td>1,380,004,385</td>\n",
       "    </tr>\n",
       "  </tbody>\n",
       "</table>\n",
       "</div>"
      ],
      "text/plain": [
       "     Country/Region  2021  2020   2019   2018     Population\n",
       "Rank                                                        \n",
       "1        Bangladesh  76.9  77.1  83.30  97.10    164,689,383\n",
       "2              Chad  75.9  75.9  75.90  75.90     16,425,859\n",
       "3          Pakistan  66.8  59.0  65.80  74.30    220,892,331\n",
       "4        Tajikistan  59.4  30.9  45.15  45.15      9,537,642\n",
       "5             India  58.1  51.9  58.10  72.50  1,380,004,385"
      ]
     },
     "execution_count": 21,
     "metadata": {},
     "output_type": "execute_result"
    }
   ],
   "source": [
    "# verify that mean has replaced - \n",
    "air_dirty.head(5)"
   ]
  },
  {
   "cell_type": "code",
   "execution_count": 22,
   "metadata": {},
   "outputs": [],
   "source": [
    "# Air Quality dataset: Fix incorrect data types - change to Float\n",
    "\n",
    "air_dirty['2018'] = air_dirty['2018'].astype(float)\n",
    "air_dirty['2019'] = air_dirty['2019'].astype(float)\n",
    "air_dirty['2020'] = air_dirty['2020'].astype(float)\n",
    "air_dirty['2021'] = air_dirty['2021'].astype(float)"
   ]
  },
  {
   "cell_type": "code",
   "execution_count": 23,
   "metadata": {},
   "outputs": [
    {
     "name": "stdout",
     "output_type": "stream",
     "text": [
      "<class 'pandas.core.frame.DataFrame'>\n",
      "Index: 118 entries, 1 to 118\n",
      "Data columns (total 6 columns):\n",
      " #   Column          Non-Null Count  Dtype  \n",
      "---  ------          --------------  -----  \n",
      " 0   Country/Region  118 non-null    object \n",
      " 1   2021            118 non-null    float64\n",
      " 2   2020            118 non-null    float64\n",
      " 3   2019            118 non-null    float64\n",
      " 4   2018            118 non-null    float64\n",
      " 5   Population      118 non-null    object \n",
      "dtypes: float64(4), object(2)\n",
      "memory usage: 10.5+ KB\n"
     ]
    }
   ],
   "source": [
    "air_dirty.info()"
   ]
  },
  {
   "cell_type": "markdown",
   "metadata": {},
   "source": [
    "We've cleared the '-' values and also changed the datatypes for 2018, 2019, 2020, 2021 to floats. We're not concerned with Population because we will be dropping that column and not using that data in our comparison."
   ]
  },
  {
   "cell_type": "markdown",
   "metadata": {},
   "source": [
    "### Population dataset - Quality Issue 3 & Tidiness Issues 1. Tidiness Issue 2 is fixed when Plotting the graph.\n",
    "### Air Quality dataset - Tidiness Issue 1 & 2"
   ]
  },
  {
   "cell_type": "markdown",
   "metadata": {
    "id": "8Be77N4I1AmE"
   },
   "source": [
    "Population dataset will be trimmed to just the range of years that we have Air Quality data. Air Quality dataset will trim the Population data as it's a repeat from the Population dataset. Table Structure, Population dataset has Country/Regions mixed into the column when it should only be Countries."
   ]
  },
  {
   "cell_type": "markdown",
   "metadata": {},
   "source": [
    "#### Population Dataset:"
   ]
  },
  {
   "cell_type": "code",
   "execution_count": 24,
   "metadata": {},
   "outputs": [],
   "source": [
    "#Population Dataset: Drop the column(s) of specific years and Country Code column\n",
    " \n",
    "    # Dropped when database was loaded - see code at the beginning\n",
    "    \n",
    "    #   usecols = [\"Country Name\", \"2018\", \"2019\", \"2020\", \"2021\"]\n",
    "    #   pop_df = pd.read_csv(\"./data/World-population-by-countries-dataset.csv\", usecols=usecols)"
   ]
  },
  {
   "cell_type": "markdown",
   "metadata": {},
   "source": [
    "Dropped the Country Code column on load as it was duplicated data. Manually cleaned the Regions from the Country column fixing the data granularity issue."
   ]
  },
  {
   "cell_type": "code",
   "execution_count": 25,
   "metadata": {},
   "outputs": [],
   "source": [
    "# Remove rows where 'Country Name' has more than 23 characters \n",
    "# 23 characters was visually inspected as being the max length of a Country name\n",
    "\n",
    "pop_df.drop(pop_df[pop_df['Country Name'].str.len() > 23].index, inplace=True)"
   ]
  },
  {
   "cell_type": "code",
   "execution_count": 26,
   "metadata": {},
   "outputs": [
    {
     "name": "stdout",
     "output_type": "stream",
     "text": [
      "Empty DataFrame\n",
      "Columns: [Country Name, 2018, 2019, 2020, 2021]\n",
      "Index: []\n"
     ]
    }
   ],
   "source": [
    "# Print rows where 'Country Name' has more than 23 characters\n",
    "\n",
    "print(pop_df[pop_df['Country Name'].str.len() > 23])"
   ]
  },
  {
   "cell_type": "code",
   "execution_count": 27,
   "metadata": {},
   "outputs": [
    {
     "name": "stdout",
     "output_type": "stream",
     "text": [
      "<class 'pandas.core.frame.DataFrame'>\n",
      "Index: 236 entries, 0 to 265\n",
      "Data columns (total 5 columns):\n",
      " #   Column        Non-Null Count  Dtype  \n",
      "---  ------        --------------  -----  \n",
      " 0   Country Name  236 non-null    object \n",
      " 1   2018          234 non-null    float64\n",
      " 2   2019          234 non-null    float64\n",
      " 3   2020          234 non-null    float64\n",
      " 4   2021          234 non-null    float64\n",
      "dtypes: float64(4), object(1)\n",
      "memory usage: 11.1+ KB\n"
     ]
    }
   ],
   "source": [
    "pop_df.info()"
   ]
  },
  {
   "cell_type": "code",
   "execution_count": 28,
   "metadata": {},
   "outputs": [],
   "source": [
    "# Remove rows where 'Country Name' contains the word 'income'\n",
    "pop_df.drop(pop_df[pop_df['Country Name'].str.contains('income', case=False)].index, inplace=True)"
   ]
  },
  {
   "cell_type": "code",
   "execution_count": 29,
   "metadata": {},
   "outputs": [],
   "source": [
    "# Remove rows where 'Country Name' contains the word 'World'\n",
    "pop_df.drop(pop_df[pop_df['Country Name'].str.contains('World', case=False)].index, inplace=True)"
   ]
  },
  {
   "cell_type": "code",
   "execution_count": 30,
   "metadata": {},
   "outputs": [],
   "source": [
    "# Remove rows where 'Country Name' contains the word 'Central'\n",
    "pop_df.drop(pop_df[pop_df['Country Name'].str.contains('Central', case=False)].index, inplace=True)"
   ]
  },
  {
   "cell_type": "code",
   "execution_count": 31,
   "metadata": {},
   "outputs": [],
   "source": [
    "# Remove rows where 'Country Name' contains the word 'dividend'\n",
    "pop_df.drop(pop_df[pop_df['Country Name'].str.contains('dividend', case=False)].index, inplace=True)"
   ]
  },
  {
   "cell_type": "code",
   "execution_count": 32,
   "metadata": {},
   "outputs": [],
   "source": [
    "# Remove rows where 'Country Name' contains the word 'IDA'\n",
    "pop_df.drop(pop_df[pop_df['Country Name'].str.contains('IDA', case=False)].index, inplace=True)"
   ]
  },
  {
   "cell_type": "code",
   "execution_count": 33,
   "metadata": {},
   "outputs": [],
   "source": [
    "# Remove rows where 'Country Name' contains the word 'IBRD'\n",
    "pop_df.drop(pop_df[pop_df['Country Name'].str.contains('IBRD', case=False)].index, inplace=True)"
   ]
  },
  {
   "cell_type": "code",
   "execution_count": 34,
   "metadata": {},
   "outputs": [],
   "source": [
    "# Remove rows where 'Country Name' contains the word 'Not'\n",
    "pop_df.drop(pop_df[pop_df['Country Name'].str.contains('Not', case=False)].index, inplace=True)"
   ]
  },
  {
   "cell_type": "code",
   "execution_count": 35,
   "metadata": {},
   "outputs": [],
   "source": [
    "# Remove rows where 'Country Name' contains the word 'developed'\n",
    "pop_df.drop(pop_df[pop_df['Country Name'].str.contains('developed', case=False)].index, inplace=True)"
   ]
  },
  {
   "cell_type": "code",
   "execution_count": 36,
   "metadata": {},
   "outputs": [],
   "source": [
    "# Remove rows where 'Country Name' contains the word 'Latin America'\n",
    "pop_df.drop(pop_df[pop_df['Country Name'].str.contains('Latin America', case=False)].index, inplace=True)"
   ]
  },
  {
   "cell_type": "code",
   "execution_count": 37,
   "metadata": {},
   "outputs": [],
   "source": [
    "# Remove rows where 'Country Name' contains the word 'Middle'\n",
    "pop_df.drop(pop_df[pop_df['Country Name'].str.contains('Middle', case=False)].index, inplace=True)"
   ]
  },
  {
   "cell_type": "code",
   "execution_count": 38,
   "metadata": {},
   "outputs": [],
   "source": [
    "# Remove rows where 'Country Name' contains the word 'Africa'\n",
    "pop_df.drop(pop_df[pop_df['Country Name'].str.contains('Africa', case=False)].index, inplace=True)"
   ]
  },
  {
   "cell_type": "markdown",
   "metadata": {},
   "source": [
    "After visually inspecting the spreadsheet: Removed all rows that were over 23 characters in length - these were the Region names that didn't belong in the Country column. Will verify this visually as well. Removed rows with \"income\", \"World\", \"Central\", \"dividend\", \"IDA\", \"IBRD\", \"Not\", \"developed\", \"Latin America\", \"Middle\", \"Africa\""
   ]
  },
  {
   "cell_type": "code",
   "execution_count": 39,
   "metadata": {
    "scrolled": true
   },
   "outputs": [
    {
     "name": "stdout",
     "output_type": "stream",
     "text": [
      "<class 'pandas.core.frame.DataFrame'>\n",
      "Index: 217 entries, 0 to 265\n",
      "Data columns (total 5 columns):\n",
      " #   Column        Non-Null Count  Dtype  \n",
      "---  ------        --------------  -----  \n",
      " 0   Country Name  217 non-null    object \n",
      " 1   2018          216 non-null    float64\n",
      " 2   2019          216 non-null    float64\n",
      " 3   2020          216 non-null    float64\n",
      " 4   2021          216 non-null    float64\n",
      "dtypes: float64(4), object(1)\n",
      "memory usage: 10.2+ KB\n"
     ]
    }
   ],
   "source": [
    "pop_df.info()"
   ]
  },
  {
   "cell_type": "markdown",
   "metadata": {},
   "source": [
    "In total, we cleaned out 48 rows of Regional population data that would affect our calculations."
   ]
  },
  {
   "cell_type": "markdown",
   "metadata": {},
   "source": [
    "#### Air Quality Dataset:"
   ]
  },
  {
   "cell_type": "code",
   "execution_count": 40,
   "metadata": {},
   "outputs": [],
   "source": [
    "#Air Quality Dataset: Drop the Rank column\n",
    " \n",
    "    # Dropped when database was loaded - Rank column was made to be the index column - see code at the beginning\n",
    "\n",
    "    #   air_df = pd.read_csv(\"./data/AIR-QUALITY-INDEX-top-countries.csv\", index_col=\"Rank\")"
   ]
  },
  {
   "cell_type": "code",
   "execution_count": 41,
   "metadata": {
    "id": "fib0zAm333bn"
   },
   "outputs": [],
   "source": [
    "#Air Quality Dataset: Drop the column(s) Population that's found on another Dataframe\n",
    "\n",
    "air_dirty.drop(air_dirty.columns[[5]], axis=1, inplace=True)"
   ]
  },
  {
   "cell_type": "code",
   "execution_count": 42,
   "metadata": {},
   "outputs": [
    {
     "name": "stdout",
     "output_type": "stream",
     "text": [
      "<class 'pandas.core.frame.DataFrame'>\n",
      "Index: 118 entries, 1 to 118\n",
      "Data columns (total 5 columns):\n",
      " #   Column          Non-Null Count  Dtype  \n",
      "---  ------          --------------  -----  \n",
      " 0   Country/Region  118 non-null    object \n",
      " 1   2021            118 non-null    float64\n",
      " 2   2020            118 non-null    float64\n",
      " 3   2019            118 non-null    float64\n",
      " 4   2018            118 non-null    float64\n",
      "dtypes: float64(4), object(1)\n",
      "memory usage: 9.6+ KB\n"
     ]
    }
   ],
   "source": [
    "air_dirty.info()"
   ]
  },
  {
   "cell_type": "markdown",
   "metadata": {
    "id": "F42urHuzttjF"
   },
   "source": [
    "## 4. Update your data store\n",
    "Update your local database/data store with the cleaned data, following best practices for storing your cleaned data:\n",
    "\n",
    "- Must maintain different instances / versions of data (raw and cleaned data)\n",
    "- Must name the dataset files informatively\n",
    "- Ensure both the raw and cleaned data is saved to your database/data store"
   ]
  },
  {
   "cell_type": "code",
   "execution_count": 43,
   "metadata": {
    "id": "V3uay7EJUV_L"
   },
   "outputs": [],
   "source": [
    "pop_dirty.to_csv('population_clean_master.csv', index=False)"
   ]
  },
  {
   "cell_type": "code",
   "execution_count": 44,
   "metadata": {},
   "outputs": [],
   "source": [
    "air_dirty.to_csv('air_quality_clean_master.csv', index=False)"
   ]
  },
  {
   "cell_type": "markdown",
   "metadata": {
    "id": "cGy_yddGtzhM"
   },
   "source": [
    "## 5. Answer the research question\n",
    "\n",
    "### **5.1:** Define and answer the research question \n",
    "Going back to the problem statement in step 1, use the cleaned data to answer the question you raised. Produce **at least** two visualizations using the cleaned data and explain how they help you answer the question."
   ]
  },
  {
   "cell_type": "markdown",
   "metadata": {
    "id": "gjedE4s4ZkEd"
   },
   "source": [
    "*Research question 1:* Investigate which Country has the Highest and the Lowest Population\n",
    "\n",
    "*Research question 2:* What, if any, impact does Population have on Air Quality? \n",
    "\n",
    "I hypothesize that the larger the population, the worse the Air Quality."
   ]
  },
  {
   "cell_type": "code",
   "execution_count": 45,
   "metadata": {},
   "outputs": [],
   "source": [
    "# Load clean datasets\n",
    "\n",
    "df_pop = pd.read_csv('population_clean_master.csv')\n",
    "df_air = pd.read_csv('air_quality_clean_master.csv')"
   ]
  },
  {
   "cell_type": "markdown",
   "metadata": {},
   "source": [
    "#### Which Countries have the Highest Population - find the Top 10"
   ]
  },
  {
   "cell_type": "code",
   "execution_count": 46,
   "metadata": {
    "id": "Lkw3rW9kZmOm"
   },
   "outputs": [],
   "source": [
    "# Convert year columns to numeric  \n",
    "for year in ['2018','2019','2020','2021']:  \n",
    "    df_pop[year] = pd.to_numeric(df_pop[year], errors='coerce')"
   ]
  },
  {
   "cell_type": "code",
   "execution_count": 47,
   "metadata": {},
   "outputs": [
    {
     "name": "stdout",
     "output_type": "stream",
     "text": [
      "Highest in 2021:\n",
      "   Country Name        2018        2019        2020        2021\n",
      "35        China  1402760000  1407745000  1411100000  1412360000\n",
      "Lowest in 2021:\n",
      "    Country Name   2018   2019   2020   2021\n",
      "147        Nauru  10678  10764  10834  10873\n"
     ]
    }
   ],
   "source": [
    "# Country with max and min population in 2021  \n",
    "highest = df_pop.loc[df_pop['2021'].idxmax()]\n",
    "lowest  = df_pop.loc[df_pop['2021'].idxmin()] \n",
    "  \n",
    "print('Highest in 2021:')\n",
    "print(highest.to_frame().T)\n",
    "  \n",
    "print('Lowest in 2021:')\n",
    "print(lowest.to_frame().T)"
   ]
  },
  {
   "cell_type": "code",
   "execution_count": 48,
   "metadata": {},
   "outputs": [
    {
     "name": "stdout",
     "output_type": "stream",
     "text": [
      "                          2018        2019        2020        2021\n",
      "Country Name                                                      \n",
      "China               1402760000  1407745000  1411100000  1412360000\n",
      "India               1352642283  1366417756  1380004385  1393409033\n",
      "Euro area            341979171   342283354   342708355   342566541\n",
      "United States        326838199   328329953   331501080   331893745\n",
      "Indonesia            267670549   270625567   273523621   276361788\n",
      "Pakistan             212228288   216565317   220892331   225199929\n",
      "Brazil               209469320   211049519   212559409   213993441\n",
      "Nigeria              195874685   200963603   206139587   211400704\n",
      "Bangladesh           161376713   163046173   164689383   166303494\n",
      "Russian Federation   144477859   144406261   144073139   143446060\n"
     ]
    },
    {
     "data": {
      "image/png": "[encoded data removed]",
      "text/plain": [
       "<Figure size 1000x600 with 1 Axes>"
      ]
     },
     "metadata": {},
     "output_type": "display_data"
    }
   ],
   "source": [
    "# Pick top 10 by 2021 and set Country Name as index  \n",
    "top10 = df_pop.nlargest(10, '2021').set_index('Country Name')  \n",
    "\n",
    "# Display their populations 2018–2021  \n",
    "print(top10)\n",
    "\n",
    "# Prepare integer x-axis years  \n",
    "years = [2018, 2019, 2020, 2021]  \n",
    "  \n",
    "plt.figure(figsize=(10,6))  \n",
    "for country in top10.index:  \n",
    "    pops = top10.loc[country, ['2018','2019','2020','2021']].values  \n",
    "    plt.plot(years, pops, marker='o', label=country)  \n",
    "  \n",
    "plt.title('Top 10 Countries by Population (2018–2021)')  \n",
    "plt.xlabel('Year')  \n",
    "plt.ylabel('Population in Billions')  \n",
    "plt.xticks(years)  \n",
    "plt.legend(loc='upper left', bbox_to_anchor=(1,1))  \n",
    "sns.despine()  \n",
    "plt.tight_layout()  \n",
    "plt.show()"
   ]
  },
  {
   "cell_type": "markdown",
   "metadata": {},
   "source": [
    "#### Which Countries have the Lowest Population - find the Lowest 10"
   ]
  },
  {
   "cell_type": "code",
   "execution_count": 49,
   "metadata": {},
   "outputs": [
    {
     "name": "stdout",
     "output_type": "stream",
     "text": [
      "                           2018   2019   2020   2021\n",
      "Country Name                                        \n",
      "Nauru                     10678  10764  10834  10873\n",
      "Tuvalu                    11505  11655  11792  11925\n",
      "Palau                     17911  18001  18092  18174\n",
      "British Virgin Islands    29795  30033  30237  30423\n",
      "Gibraltar                 33715  33706  33691  33691\n",
      "San Marino                33784  33864  33938  34010\n",
      "Liechtenstein             37918  38020  38137  38254\n",
      "Turks and Caicos Islands  37667  38194  38718  39226\n",
      "St. Martin (French part)  37264  38002  38659  39239\n",
      "Monaco                    38682  38967  39244  39520\n"
     ]
    },
    {
     "data": {
      "image/png": "[encoded data removed]",
      "text/plain": [
       "<Figure size 1000x600 with 1 Axes>"
      ]
     },
     "metadata": {},
     "output_type": "display_data"
    }
   ],
   "source": [
    "# Get the 10 smallest in 2021  \n",
    "least10 = df_pop.nsmallest(10, '2021').set_index('Country Name')  \n",
    "  \n",
    "# Display their populations 2018–2021  \n",
    "print(least10)  \n",
    "  \n",
    "# Plot them over 2018–2021  \n",
    "years = [2018, 2019, 2020, 2021]  \n",
    "plt.figure(figsize=(10, 6))  \n",
    "for country in least10.index:  \n",
    "    pops = least10.loc[country, ['2018','2019','2020','2021']].values  \n",
    "    plt.plot(years, pops, marker='o', label=country)  \n",
    "\n",
    "plt.title('10 Least Populous Countries (2018–2021)')  \n",
    "plt.xlabel('Year')  \n",
    "plt.ylabel('Population')  \n",
    "plt.xticks(years)  \n",
    "plt.legend(loc='upper left', bbox_to_anchor=(1,1))  \n",
    "sns.despine()  \n",
    "plt.tight_layout()  \n",
    "plt.show()"
   ]
  },
  {
   "cell_type": "markdown",
   "metadata": {},
   "source": [
    "#### What, if any, impact does Population have on Air Quality?"
   ]
  },
  {
   "cell_type": "code",
   "execution_count": 50,
   "metadata": {
    "id": "6fdK_8ZGZm9R"
   },
   "outputs": [],
   "source": [
    "# Reshaping and Merging datasets for plot\n",
    "\n",
    "# Melt population: year columns are currently strings of years\n",
    "pop_long = df_pop.melt(id_vars=['Country Name'], var_name='Year', value_name='Population')\n",
    "\n",
    "# Melt air quality\n",
    "air_long = df_air.melt(id_vars=['Country/Region'], var_name='Year', value_name='AirQuality')\n",
    "\n",
    "# Rename for consistency between datasets\n",
    "pop_long.rename(columns={'Country Name': 'Country'}, inplace=True)\n",
    "air_long.rename(columns={'Country/Region': 'Country'}, inplace=True)"
   ]
  },
  {
   "cell_type": "code",
   "execution_count": 51,
   "metadata": {},
   "outputs": [],
   "source": [
    "# Make sure Year is numeric\n",
    "pop_long['Year'] = pop_long['Year'].astype(int)\n",
    "air_long['Year'] = air_long['Year'].astype(int)"
   ]
  },
  {
   "cell_type": "code",
   "execution_count": 52,
   "metadata": {},
   "outputs": [],
   "source": [
    "# Merge on Country and Year\n",
    "merged = pd.merge(pop_long, air_long, on=['Country', 'Year'], how='inner')"
   ]
  },
  {
   "cell_type": "code",
   "execution_count": 53,
   "metadata": {},
   "outputs": [
    {
     "data": {
      "image/png": "[encoded data removed]",
      "text/plain": [
       "<Figure size 640x480 with 1 Axes>"
      ]
     },
     "metadata": {},
     "output_type": "display_data"
    }
   ],
   "source": [
    "# Plot scatterplot of Population vs AirQuality colored by Year\n",
    "g = sns.scatterplot(data=merged, x='Population', y='AirQuality', hue='Year', palette='viridis', alpha=0.7)\n",
    "plt.title('Population Impact on Air Quality')\n",
    "plt.xlabel('Population')\n",
    "plt.ylabel('Air Quality Index')\n",
    "plt.legend(title='Year', bbox_to_anchor=(1.05, 1), loc='upper left')\n",
    "plt.tight_layout()\n",
    "plt.show()"
   ]
  },
  {
   "cell_type": "markdown",
   "metadata": {},
   "source": [
    "The scatter plot confirms my hypothesis - Overall, countries with larger populations tend to exhibit higher Air Quality Index values (i.e., poorer air quality). The points slope upward from left to right, suggesting population size is a driver (or at least a strong indicator) of air pollution levels."
   ]
  },
  {
   "cell_type": "markdown",
   "metadata": {},
   "source": [
    "We also see that even if population remains similar, air quality has worsened from 2018 through 2021.\n",
    "\n",
    "The outlier, a handful of high-population countries, the top 10% by population, show especially large jumps in their AQ index, indicating rapid degradation.\n",
    "\n",
    "Together, the plot suggests that while population size places increasing pressure on air pollution, policy interventions or technological improvements can moderate the effects, or if absent of any intervention, exacerbate those trends over time."
   ]
  },
  {
   "cell_type": "markdown",
   "metadata": {
    "id": "0ezWXXZVj-TP"
   },
   "source": [
    "### **5.2:** Reflection\n",
    "If I had more time to complete the project, I would further like to delve into the mitigation efforts of the outlier top 10% population countries that have a rapid degradation of air pollution levels. I would study their individual effects on air quality with communities in a range of population sizes."
   ]
  }
 ],
 "metadata": {
  "colab": {
   "provenance": []
  },
  "kernelspec": {
   "display_name": "Python 3 (ipykernel)",
   "language": "python",
   "name": "python3"
  },
  "language_info": {
   "codemirror_mode": {
    "name": "ipython",
    "version": 3
   },
   "file_extension": ".py",
   "mimetype": "text/x-python",
   "name": "python",
   "nbconvert_exporter": "python",
   "pygments_lexer": "ipython3",
   "version": "3.10.11"
  }
 },
 "nbformat": 4,
 "nbformat_minor": 1
}
